{
 "cells": [
  {
   "cell_type": "code",
   "execution_count": 4,
   "metadata": {},
   "outputs": [
    {
     "name": "stdout",
     "output_type": "stream",
     "text": [
      "Requirement already satisfied: requests-html in c:\\users\\user\\documents\\personal\\scraper\\lib\\site-packages (0.10.0)Note: you may need to restart the kernel to use updated packages.\n"
     ]
    },
    {
     "name": "stderr",
     "output_type": "stream",
     "text": [
      "\n",
      "[notice] A new release of pip is available: 24.0 -> 24.2\n",
      "[notice] To update, run: python.exe -m pip install --upgrade pip\n"
     ]
    },
    {
     "name": "stdout",
     "output_type": "stream",
     "text": [
      "\n",
      "Requirement already satisfied: requests in c:\\users\\user\\documents\\personal\\scraper\\lib\\site-packages (from requests-html) (2.32.3)\n",
      "Requirement already satisfied: pyquery in c:\\users\\user\\documents\\personal\\scraper\\lib\\site-packages (from requests-html) (2.0.0)\n",
      "Requirement already satisfied: fake-useragent in c:\\users\\user\\documents\\personal\\scraper\\lib\\site-packages (from requests-html) (1.5.1)\n",
      "Requirement already satisfied: parse in c:\\users\\user\\documents\\personal\\scraper\\lib\\site-packages (from requests-html) (1.20.2)\n",
      "Requirement already satisfied: bs4 in c:\\users\\user\\documents\\personal\\scraper\\lib\\site-packages (from requests-html) (0.0.2)\n",
      "Requirement already satisfied: w3lib in c:\\users\\user\\documents\\personal\\scraper\\lib\\site-packages (from requests-html) (2.2.1)\n",
      "Requirement already satisfied: pyppeteer>=0.0.14 in c:\\users\\user\\documents\\personal\\scraper\\lib\\site-packages (from requests-html) (2.0.0)\n",
      "Requirement already satisfied: appdirs<2.0.0,>=1.4.3 in c:\\users\\user\\documents\\personal\\scraper\\lib\\site-packages (from pyppeteer>=0.0.14->requests-html) (1.4.4)\n",
      "Requirement already satisfied: certifi>=2023 in c:\\users\\user\\documents\\personal\\scraper\\lib\\site-packages (from pyppeteer>=0.0.14->requests-html) (2024.6.2)\n",
      "Requirement already satisfied: importlib-metadata>=1.4 in c:\\users\\user\\documents\\personal\\scraper\\lib\\site-packages (from pyppeteer>=0.0.14->requests-html) (8.0.0)\n",
      "Requirement already satisfied: pyee<12.0.0,>=11.0.0 in c:\\users\\user\\documents\\personal\\scraper\\lib\\site-packages (from pyppeteer>=0.0.14->requests-html) (11.1.0)\n",
      "Requirement already satisfied: tqdm<5.0.0,>=4.42.1 in c:\\users\\user\\documents\\personal\\scraper\\lib\\site-packages (from pyppeteer>=0.0.14->requests-html) (4.66.4)\n",
      "Requirement already satisfied: urllib3<2.0.0,>=1.25.8 in c:\\users\\user\\documents\\personal\\scraper\\lib\\site-packages (from pyppeteer>=0.0.14->requests-html) (1.26.19)\n",
      "Requirement already satisfied: websockets<11.0,>=10.0 in c:\\users\\user\\documents\\personal\\scraper\\lib\\site-packages (from pyppeteer>=0.0.14->requests-html) (10.4)\n",
      "Requirement already satisfied: beautifulsoup4 in c:\\users\\user\\documents\\personal\\scraper\\lib\\site-packages (from bs4->requests-html) (4.12.3)\n",
      "Requirement already satisfied: lxml>=2.1 in c:\\users\\user\\documents\\personal\\scraper\\lib\\site-packages (from pyquery->requests-html) (5.2.2)\n",
      "Requirement already satisfied: cssselect>=1.2.0 in c:\\users\\user\\documents\\personal\\scraper\\lib\\site-packages (from pyquery->requests-html) (1.2.0)\n",
      "Requirement already satisfied: charset-normalizer<4,>=2 in c:\\users\\user\\documents\\personal\\scraper\\lib\\site-packages (from requests->requests-html) (3.3.2)\n",
      "Requirement already satisfied: idna<4,>=2.5 in c:\\users\\user\\documents\\personal\\scraper\\lib\\site-packages (from requests->requests-html) (3.7)\n",
      "Requirement already satisfied: zipp>=0.5 in c:\\users\\user\\documents\\personal\\scraper\\lib\\site-packages (from importlib-metadata>=1.4->pyppeteer>=0.0.14->requests-html) (3.19.2)\n",
      "Requirement already satisfied: typing-extensions in c:\\users\\user\\documents\\personal\\scraper\\lib\\site-packages (from pyee<12.0.0,>=11.0.0->pyppeteer>=0.0.14->requests-html) (4.12.2)\n",
      "Requirement already satisfied: colorama in c:\\users\\user\\documents\\personal\\scraper\\lib\\site-packages (from tqdm<5.0.0,>=4.42.1->pyppeteer>=0.0.14->requests-html) (0.4.6)\n",
      "Requirement already satisfied: soupsieve>1.2 in c:\\users\\user\\documents\\personal\\scraper\\lib\\site-packages (from beautifulsoup4->bs4->requests-html) (2.5)\n",
      "Requirement already satisfied: lxml_html_clean in c:\\users\\user\\documents\\personal\\scraper\\lib\\site-packages (0.2.0)\n",
      "Requirement already satisfied: lxml in c:\\users\\user\\documents\\personal\\scraper\\lib\\site-packages (from lxml_html_clean) (5.2.2)\n",
      "Note: you may need to restart the kernel to use updated packages.\n"
     ]
    },
    {
     "name": "stderr",
     "output_type": "stream",
     "text": [
      "\n",
      "[notice] A new release of pip is available: 24.0 -> 24.2\n",
      "[notice] To update, run: python.exe -m pip install --upgrade pip\n"
     ]
    },
    {
     "name": "stdout",
     "output_type": "stream",
     "text": [
      "Requirement already satisfied: selenium in c:\\users\\user\\documents\\personal\\scraper\\lib\\site-packages (4.22.0)\n",
      "Requirement already satisfied: urllib3<3,>=1.26 in c:\\users\\user\\documents\\personal\\scraper\\lib\\site-packages (from urllib3[socks]<3,>=1.26->selenium) (1.26.19)\n",
      "Requirement already satisfied: trio~=0.17 in c:\\users\\user\\documents\\personal\\scraper\\lib\\site-packages (from selenium) (0.25.1)\n",
      "Requirement already satisfied: trio-websocket~=0.9 in c:\\users\\user\\documents\\personal\\scraper\\lib\\site-packages (from selenium) (0.11.1)\n",
      "Requirement already satisfied: certifi>=2021.10.8 in c:\\users\\user\\documents\\personal\\scraper\\lib\\site-packages (from selenium) (2024.6.2)\n",
      "Requirement already satisfied: typing_extensions>=4.9.0 in c:\\users\\user\\documents\\personal\\scraper\\lib\\site-packages (from selenium) (4.12.2)\n",
      "Requirement already satisfied: websocket-client>=1.8.0 in c:\\users\\user\\documents\\personal\\scraper\\lib\\site-packages (from selenium) (1.8.0)\n",
      "Requirement already satisfied: attrs>=23.2.0 in c:\\users\\user\\documents\\personal\\scraper\\lib\\site-packages (from trio~=0.17->selenium) (23.2.0)\n",
      "Requirement already satisfied: sortedcontainers in c:\\users\\user\\documents\\personal\\scraper\\lib\\site-packages (from trio~=0.17->selenium) (2.4.0)\n",
      "Requirement already satisfied: idna in c:\\users\\user\\documents\\personal\\scraper\\lib\\site-packages (from trio~=0.17->selenium) (3.7)\n",
      "Requirement already satisfied: outcome in c:\\users\\user\\documents\\personal\\scraper\\lib\\site-packages (from trio~=0.17->selenium) (1.3.0.post0)\n",
      "Requirement already satisfied: sniffio>=1.3.0 in c:\\users\\user\\documents\\personal\\scraper\\lib\\site-packages (from trio~=0.17->selenium) (1.3.1)\n",
      "Requirement already satisfied: cffi>=1.14 in c:\\users\\user\\documents\\personal\\scraper\\lib\\site-packages (from trio~=0.17->selenium) (1.16.0)\n",
      "Requirement already satisfied: wsproto>=0.14 in c:\\users\\user\\documents\\personal\\scraper\\lib\\site-packages (from trio-websocket~=0.9->selenium) (1.2.0)\n",
      "Requirement already satisfied: PySocks!=1.5.7,<2.0,>=1.5.6 in c:\\users\\user\\documents\\personal\\scraper\\lib\\site-packages (from urllib3[socks]<3,>=1.26->selenium) (1.7.1)\n",
      "Requirement already satisfied: pycparser in c:\\users\\user\\documents\\personal\\scraper\\lib\\site-packages (from cffi>=1.14->trio~=0.17->selenium) (2.22)\n",
      "Requirement already satisfied: h11<1,>=0.9.0 in c:\\users\\user\\documents\\personal\\scraper\\lib\\site-packages (from wsproto>=0.14->trio-websocket~=0.9->selenium) (0.14.0)\n",
      "Note: you may need to restart the kernel to use updated packages.\n"
     ]
    },
    {
     "name": "stderr",
     "output_type": "stream",
     "text": [
      "\n",
      "[notice] A new release of pip is available: 24.0 -> 24.2\n",
      "[notice] To update, run: python.exe -m pip install --upgrade pip\n"
     ]
    }
   ],
   "source": [
    "# Requrements\n",
    "%pip install requests-html\n",
    "%pip install --upgrade lxml_html_clean\n",
    "%pip install selenium"
   ]
  },
  {
   "cell_type": "code",
   "execution_count": 5,
   "metadata": {},
   "outputs": [
    {
     "name": "stdout",
     "output_type": "stream",
     "text": [
      "['https://bank-code.net/country/starts-with-letter-A', 'https://bank-code.net/country/starts-with-letter-B', 'https://bank-code.net/country/starts-with-letter-C', 'https://bank-code.net/country/starts-with-letter-D', 'https://bank-code.net/country/starts-with-letter-E', 'https://bank-code.net/country/starts-with-letter-F', 'https://bank-code.net/country/starts-with-letter-G', 'https://bank-code.net/country/starts-with-letter-H', 'https://bank-code.net/country/starts-with-letter-I', 'https://bank-code.net/country/starts-with-letter-J', 'https://bank-code.net/country/starts-with-letter-K', 'https://bank-code.net/country/starts-with-letter-L', 'https://bank-code.net/country/starts-with-letter-M', 'https://bank-code.net/country/starts-with-letter-N', 'https://bank-code.net/country/starts-with-letter-O', 'https://bank-code.net/country/starts-with-letter-P', 'https://bank-code.net/country/starts-with-letter-Q', 'https://bank-code.net/country/starts-with-letter-R', 'https://bank-code.net/country/starts-with-letter-S', 'https://bank-code.net/country/starts-with-letter-T', 'https://bank-code.net/country/starts-with-letter-U', 'https://bank-code.net/country/starts-with-letter-V', 'https://bank-code.net/country/starts-with-letter-W', 'https://bank-code.net/country/starts-with-letter-Y', 'https://bank-code.net/country/starts-with-letter-Z']\n"
     ]
    }
   ],
   "source": [
    "# Get all links containing countries bank-code.net\n",
    "from selenium import webdriver\n",
    "from selenium.webdriver.common.by import By\n",
    "\n",
    "browser = webdriver.Chrome()\n",
    "\n",
    "browser.get(\"https://bank-code.net/country/starts-with-letter-A\")\n",
    "# get list in <ul class=\"nav nav-pills\"></ul>\n",
    "ul = browser.find_element(By.CLASS_NAME, \"nav-pills\")\n",
    "# get list items in <li></li>\n",
    "lis = ul.find_elements(By.TAG_NAME, \"li\")\n",
    "# get links in <a></a>\n",
    "links = [li.find_element(By.TAG_NAME, \"a\") for li in lis]\n",
    "# get href attribute of <a></a>\n",
    "hrefs = [link.get_attribute(\"href\") for link in links]\n",
    "# print hrefs\n",
    "print(hrefs)"
   ]
  },
  {
   "cell_type": "code",
   "execution_count": 6,
   "metadata": {},
   "outputs": [
    {
     "name": "stdout",
     "output_type": "stream",
     "text": [
      "['https://bank-code.net/country/AFGHANISTAN-%28AF%29.html', 'https://bank-code.net/country/ALBANIA-%28AL%29.html', 'https://bank-code.net/country/ALGERIA-%28DZ%29.html', 'https://bank-code.net/country/AMERICAN-SAMOA-%28AS%29.html', 'https://bank-code.net/country/ANDORRA-%28AD%29.html', 'https://bank-code.net/country/ANGOLA-%28AO%29.html', 'https://bank-code.net/country/ANGUILLA-%28AI%29.html', 'https://bank-code.net/country/ANTIGUA-AND-BARBUDA-%28AG%29.html', 'https://bank-code.net/country/ARGENTINA-%28AR%29.html', 'https://bank-code.net/country/ARMENIA-%28AM%29.html', 'https://bank-code.net/country/ARUBA-%28AW%29.html', 'https://bank-code.net/country/AUSTRALIA-%28AU%29.html', 'https://bank-code.net/country/AUSTRIA-%28AT%29.html', 'https://bank-code.net/country/AZERBAIJAN-%28AZ%29.html', 'https://bank-code.net/country/BAHAMAS-%28BS%29.html', 'https://bank-code.net/country/BAHRAIN-%28BH%29.html', 'https://bank-code.net/country/BANGLADESH-%28BD%29.html', 'https://bank-code.net/country/BARBADOS-%28BB%29.html', 'https://bank-code.net/country/BELARUS-%28BY%29.html', 'https://bank-code.net/country/BELGIUM-%28BE%29.html', 'https://bank-code.net/country/BELIZE-%28BZ%29.html', 'https://bank-code.net/country/BENIN-%28BJ%29.html', 'https://bank-code.net/country/BERMUDA-%28BM%29.html', 'https://bank-code.net/country/BHUTAN-%28BT%29.html', 'https://bank-code.net/country/BOLIVIA-%28BO%29.html', 'https://bank-code.net/country/BONAIRE-%28BQ%29.html', 'https://bank-code.net/country/BOSNIA-AND-HERZEGOVINA-%28BA%29.html', 'https://bank-code.net/country/BOTSWANA-%28BW%29.html', 'https://bank-code.net/country/BRAZIL-%28BR%29.html', 'https://bank-code.net/country/BRUNEI-DARUSSALAM-%28BN%29.html', 'https://bank-code.net/country/BULGARIA-%28BG%29.html', 'https://bank-code.net/country/BURKINA-FASO-%28BF%29.html', 'https://bank-code.net/country/BURUNDI-%28BI%29.html', 'https://bank-code.net/country/CAMBODIA-%28KH%29.html', 'https://bank-code.net/country/CAMEROON-%28CM%29.html', 'https://bank-code.net/country/CANADA-%28CA%29.html', 'https://bank-code.net/country/CAPE-VERDE-%28CV%29.html', 'https://bank-code.net/country/CAYMAN-ISLANDS-%28KY%29.html', 'https://bank-code.net/country/CENTRAL-AFRICAN-REPUBLIC-%28CF%29.html', 'https://bank-code.net/country/CHAD-%28TD%29.html', 'https://bank-code.net/country/CHILE-%28CL%29.html', 'https://bank-code.net/country/CHINA-%28CN%29.html', 'https://bank-code.net/country/COLOMBIA-%28CO%29.html', 'https://bank-code.net/country/COMOROS-%28KM%29.html', 'https://bank-code.net/country/CONGO-%28CD%29.html', 'https://bank-code.net/country/CONGO-%28CG%29.html', 'https://bank-code.net/country/COOK-ISLANDS-%28CK%29.html', 'https://bank-code.net/country/COSTA-RICA-%28CR%29.html', 'https://bank-code.net/country/COTE-DIVOIRE-%28CI%29.html', 'https://bank-code.net/country/CROATIA-%28HR%29.html', 'https://bank-code.net/country/CUBA-%28CU%29.html', 'https://bank-code.net/country/CURACAO-%28CW%29.html', 'https://bank-code.net/country/CYPRUS-%28CY%29.html', 'https://bank-code.net/country/CZECH-REPUBLIC-%28CZ%29.html', 'https://bank-code.net/country/DENMARK-%28DK%29.html', 'https://bank-code.net/country/DJIBOUTI-%28DJ%29.html', 'https://bank-code.net/country/DOMINICA-%28DM%29.html', 'https://bank-code.net/country/DOMINICAN-REPUBLIC-%28DO%29.html', 'https://bank-code.net/country/ECUADOR-%28EC%29.html', 'https://bank-code.net/country/EGYPT-%28EG%29.html', 'https://bank-code.net/country/EL-SALVADOR-%28SV%29.html', 'https://bank-code.net/country/EQUATORIAL-GUINEA-%28GQ%29.html', 'https://bank-code.net/country/ERITREA-%28ER%29.html', 'https://bank-code.net/country/ESTONIA-%28EE%29.html', 'https://bank-code.net/country/ETHIOPIA-%28ET%29.html', 'https://bank-code.net/country/FALKLAND-ISLANDS-%28FK%29.html', 'https://bank-code.net/country/FAROE-ISLANDS-%28FO%29.html', 'https://bank-code.net/country/FIJI-%28FJ%29.html', 'https://bank-code.net/country/FINLAND-%28FI%29.html', 'https://bank-code.net/country/FRANCE-%28FR%29.html', 'https://bank-code.net/country/FRENCH-GUIANA-%28GF%29.html', 'https://bank-code.net/country/FRENCH-POLYNESIA-%28PF%29.html', 'https://bank-code.net/country/GABON-%28GA%29.html', 'https://bank-code.net/country/GAMBIA-%28GM%29.html', 'https://bank-code.net/country/GEORGIA-%28GE%29.html', 'https://bank-code.net/country/GERMANY-%28DE%29.html', 'https://bank-code.net/country/GHANA-%28GH%29.html', 'https://bank-code.net/country/GIBRALTAR-%28GI%29.html', 'https://bank-code.net/country/GREECE-%28GR%29.html', 'https://bank-code.net/country/GREENLAND-%28GL%29.html', 'https://bank-code.net/country/GRENADA-%28GD%29.html', 'https://bank-code.net/country/GUADELOUPE-%28GP%29.html', 'https://bank-code.net/country/GUAM-%28GU%29.html', 'https://bank-code.net/country/GUATEMALA-%28GT%29.html', 'https://bank-code.net/country/GUERNSEY-%28GG%29.html', 'https://bank-code.net/country/GUINEA-%28GN%29.html', 'https://bank-code.net/country/GUINEA_BISSAU-%28GW%29.html', 'https://bank-code.net/country/GUYANA-%28GY%29.html', 'https://bank-code.net/country/HAITI-%28HT%29.html', 'https://bank-code.net/country/HONDURAS-%28HN%29.html', 'https://bank-code.net/country/HONG-KONG-%28HK%29.html', 'https://bank-code.net/country/HUNGARY-%28HU%29.html', 'https://bank-code.net/country/ICELAND-%28IS%29.html', 'https://bank-code.net/country/INDIA-%28IN%29.html', 'https://bank-code.net/country/INDONESIA-%28ID%29.html', 'https://bank-code.net/country/IRAN-%28IR%29.html', 'https://bank-code.net/country/IRAQ-%28IQ%29.html', 'https://bank-code.net/country/IRELAND-%28IE%29.html', 'https://bank-code.net/country/ISLE-OF-MAN-%28IM%29.html', 'https://bank-code.net/country/ISRAEL-%28IL%29.html', 'https://bank-code.net/country/ITALY-%28IT%29.html', 'https://bank-code.net/country/JAMAICA-%28JM%29.html', 'https://bank-code.net/country/JAPAN-%28JP%29.html', 'https://bank-code.net/country/JERSEY-%28JE%29.html', 'https://bank-code.net/country/JORDAN-%28JO%29.html', 'https://bank-code.net/country/KAZAKHSTAN-%28KZ%29.html', 'https://bank-code.net/country/KENYA-%28KE%29.html', 'https://bank-code.net/country/KIRIBATI-%28KI%29.html', 'https://bank-code.net/country/KOSOVO-%28XK%29.html', 'https://bank-code.net/country/KUWAIT-%28KW%29.html', 'https://bank-code.net/country/KYRGYZSTAN-%28KG%29.html', 'https://bank-code.net/country/LAO-PEOPLES-%28LA%29.html', 'https://bank-code.net/country/LATVIA-%28LV%29.html', 'https://bank-code.net/country/LEBANON-%28LB%29.html', 'https://bank-code.net/country/LESOTHO-%28LS%29.html', 'https://bank-code.net/country/LIBERIA-%28LR%29.html', 'https://bank-code.net/country/LIBYA-%28LY%29.html', 'https://bank-code.net/country/LIECHTENSTEIN-%28LI%29.html', 'https://bank-code.net/country/LITHUANIA-%28LT%29.html', 'https://bank-code.net/country/LUXEMBOURG-%28LU%29.html', 'https://bank-code.net/country/MACAO-%28MO%29.html', 'https://bank-code.net/country/MACEDONIA-%28MK%29.html', 'https://bank-code.net/country/MADAGASCAR-%28MG%29.html', 'https://bank-code.net/country/MALAWI-%28MW%29.html', 'https://bank-code.net/country/MALAYSIA-%28MY%29.html', 'https://bank-code.net/country/MALDIVES-%28MV%29.html', 'https://bank-code.net/country/MALI-%28ML%29.html', 'https://bank-code.net/country/MALTA-%28MT%29.html', 'https://bank-code.net/country/MARSHALL-ISLANDS-%28MH%29.html', 'https://bank-code.net/country/MARTINIQUE-%28MQ%29.html', 'https://bank-code.net/country/MAURITANIA-%28MR%29.html', 'https://bank-code.net/country/MAURITIUS-%28MU%29.html', 'https://bank-code.net/country/MEXICO-%28MX%29.html', 'https://bank-code.net/country/MICRONESIA-%28FM%29.html', 'https://bank-code.net/country/MOLDOVA-%28MD%29.html', 'https://bank-code.net/country/MONACO-%28MC%29.html', 'https://bank-code.net/country/MONGOLIA-%28MN%29.html', 'https://bank-code.net/country/MONTENEGRO-%28ME%29.html', 'https://bank-code.net/country/MONTSERRAT-%28MS%29.html', 'https://bank-code.net/country/MOROCCO-%28MA%29.html', 'https://bank-code.net/country/MOZAMBIQUE-%28MZ%29.html', 'https://bank-code.net/country/MYANMAR-%28MM%29.html', 'https://bank-code.net/country/NAMIBIA-%28NA%29.html', 'https://bank-code.net/country/NEPAL-%28NP%29.html', 'https://bank-code.net/country/NETHERLANDS-%28NL%29.html', 'https://bank-code.net/country/NEW-CALEDONIA-%28NC%29.html', 'https://bank-code.net/country/NEW-ZEALAND-%28NZ%29.html', 'https://bank-code.net/country/NICARAGUA-%28NI%29.html', 'https://bank-code.net/country/NIGER-%28NE%29.html', 'https://bank-code.net/country/NIGERIA-%28NG%29.html', 'https://bank-code.net/country/NORTH-KOREA-%28KP%29.html', 'https://bank-code.net/country/NORTHERN-MARIANA-ISLANDS-%28MP%29.html', 'https://bank-code.net/country/NORWAY-%28NO%29.html', 'https://bank-code.net/country/OMAN-%28OM%29.html', 'https://bank-code.net/country/PAKISTAN-%28PK%29.html', 'https://bank-code.net/country/PALAU-%28PW%29.html', 'https://bank-code.net/country/PALESTINIAN-%28PS%29.html', 'https://bank-code.net/country/PANAMA-%28PA%29.html', 'https://bank-code.net/country/PAPUA-NEW-GUINEA-%28PG%29.html', 'https://bank-code.net/country/PARAGUAY-%28PY%29.html', 'https://bank-code.net/country/PERU-%28PE%29.html', 'https://bank-code.net/country/PHILIPPINES-%28PH%29.html', 'https://bank-code.net/country/POLAND-%28PL%29.html', 'https://bank-code.net/country/PORTUGAL-%28PT%29.html', 'https://bank-code.net/country/PUERTO-RICO-%28PR%29.html', 'https://bank-code.net/country/QATAR-%28QA%29.html', 'https://bank-code.net/country/REUNION-%28RE%29.html', 'https://bank-code.net/country/ROMANIA-%28RO%29.html', 'https://bank-code.net/country/RUSSIAN-FEDERATION-%28RU%29.html', 'https://bank-code.net/country/RWANDA-%28RW%29.html', 'https://bank-code.net/country/SAINT-HELENA-%28SH%29.html', 'https://bank-code.net/country/SAINT-KITTS-AND-NEVIS-%28KN%29.html', 'https://bank-code.net/country/SAINT-LUCIA-%28LC%29.html', 'https://bank-code.net/country/SAINT-PIERRE-AND-MIQUELON-%28PM%29.html', 'https://bank-code.net/country/SAINT-VINCENT-AND-THE-GRENADINES-.html', 'https://bank-code.net/country/SAMOA-%28WS%29.html', 'https://bank-code.net/country/SAN-MARINO-%28SM%29.html', 'https://bank-code.net/country/SAO-TOME-AND-PRINCIPE-%28ST%29.html', 'https://bank-code.net/country/SAUDI-ARABIA-%28SA%29.html', 'https://bank-code.net/country/SENEGAL-%28SN%29.html', 'https://bank-code.net/country/SERBIA-%28RS%29.html', 'https://bank-code.net/country/SEYCHELLES-%28SC%29.html', 'https://bank-code.net/country/SIERRA-LEONE-%28SL%29.html', 'https://bank-code.net/country/SINGAPORE-%28SG%29.html', 'https://bank-code.net/country/SINT-MAARTEN-%28SX%29.html', 'https://bank-code.net/country/SLOVAKIA-%28SK%29.html', 'https://bank-code.net/country/SLOVENIA-%28SI%29.html', 'https://bank-code.net/country/SOLOMON-ISLANDS-%28SB%29.html', 'https://bank-code.net/country/SOMALIA-%28SO%29.html', 'https://bank-code.net/country/SOUTH-AFRICA-%28ZA%29.html', 'https://bank-code.net/country/SOUTH-KOREA-%28KR%29.html', 'https://bank-code.net/country/SOUTH-SUDAN-%28SS%29.html', 'https://bank-code.net/country/SPAIN-%28ES%29.html', 'https://bank-code.net/country/SRI-LANKA-%28LK%29.html', 'https://bank-code.net/country/SUDAN-%28SD%29.html', 'https://bank-code.net/country/SURINAME-%28SR%29.html', 'https://bank-code.net/country/SWAZILAND-%28SZ%29.html', 'https://bank-code.net/country/SWEDEN-%28SE%29.html', 'https://bank-code.net/country/SWITZERLAND-%28CH%29.html', 'https://bank-code.net/country/SYRIAN-ARAB-REPUBLIC-%28SY%29.html', 'https://bank-code.net/country/TAIWAN-%28TW%29.html', 'https://bank-code.net/country/TAJIKISTAN-%28TJ%29.html', 'https://bank-code.net/country/TANZANIA-%28TZ%29.html', 'https://bank-code.net/country/THAILAND-%28TH%29.html', 'https://bank-code.net/country/TIMOR_LESTE-%28TL%29.html', 'https://bank-code.net/country/TOGO-%28TG%29.html', 'https://bank-code.net/country/TONGA-%28TO%29.html', 'https://bank-code.net/country/TRINIDAD-AND-TOBAGO-%28TT%29.html', 'https://bank-code.net/country/TUNISIA-%28TN%29.html', 'https://bank-code.net/country/TURKEY-%28TR%29.html', 'https://bank-code.net/country/TURKMENISTAN-%28TM%29.html', 'https://bank-code.net/country/TURKS-AND-CAICOS-ISLANDS-%28TC%29.html', 'https://bank-code.net/country/TUVALU-%28TV%29.html', 'https://bank-code.net/country/UGANDA-%28UG%29.html', 'https://bank-code.net/country/UKRAINE-%28UA%29.html', 'https://bank-code.net/country/UNITED-ARAB-EMIRATES-%28AE%29.html', 'https://bank-code.net/country/UNITED-KINGDOM-%28GB%29.html', 'https://bank-code.net/country/UNITED-STATES-%28US%29.html', 'https://bank-code.net/country/URUGUAY-%28UY%29.html', 'https://bank-code.net/country/UZBEKISTAN-%28UZ%29.html', 'https://bank-code.net/country/VANUATU-%28VU%29.html', 'https://bank-code.net/country/VATICAN-CITY-%28VA%29.html', 'https://bank-code.net/country/VENEZUELA-%28VE%29.html', 'https://bank-code.net/country/VIETNAM-%28VN%29.html', 'https://bank-code.net/country/VIRGIN-ISLANDS-GB-%28VG%29.html', 'https://bank-code.net/country/VIRGIN-ISLANDS-US-%28VI%29.html', 'https://bank-code.net/country/WALLIS-AND-FUTUNA-%28WF%29.html', 'https://bank-code.net/country/YEMEN-%28YE%29.html', 'https://bank-code.net/country/ZAMBIA-%28ZM%29.html', 'https://bank-code.net/country/ZIMBABWE-%28ZW%29.html']\n"
     ]
    }
   ],
   "source": [
    "# for each href in hrefs get list of countries in <div class=\"span4Style\"></div>\n",
    "country_list_hrefs = []\n",
    "for href in hrefs:\n",
    "    browser.get(href)\n",
    "    divs = browser.find_elements(By.CLASS_NAME, \"span4Style\")\n",
    "    # get second <a></a> for each <div></div>\n",
    "    for div in divs:\n",
    "        as_ = div.find_elements(By.TAG_NAME, \"a\")[1]\n",
    "        country_list_hrefs.append(as_.get_attribute(\"href\"))\n",
    "print(country_list_hrefs)"
   ]
  },
  {
   "cell_type": "code",
   "execution_count": 7,
   "metadata": {},
   "outputs": [],
   "source": [
    "# save country list hrefs to file so we can use it later\n",
    "with open(\"country_list_hrefs.txt\", \"w\") as file:\n",
    "    for href in country_list_hrefs:\n",
    "        file.write(href + \"\\n\")"
   ]
  },
  {
   "cell_type": "code",
   "execution_count": 8,
   "metadata": {},
   "outputs": [],
   "source": [
    "# get bank table from each page in #tableID\n",
    "# Get rows from table into object list\n",
    "# row contains 5 columns, No, Bank Name, Branch, City , Swift Code\n",
    "def getBankDetails(href):\n",
    "    browser.get(href)\n",
    "    table = browser.find_element(By.ID, \"tableID\").find_element(By.TAG_NAME, \"tbody\")\n",
    "    rows = table.find_elements(By.TAG_NAME, \"tr\")\n",
    "    # print row data\n",
    "    bank_details = []\n",
    "    for row in rows:\n",
    "        data = row.find_elements(By.TAG_NAME, \"td\")\n",
    "        # if data is not empty\n",
    "        if len(data) == 5:\n",
    "            bank_details.append({\n",
    "                \"BankName\": data[1].text,\n",
    "                \"Branch\": data[2].text,\n",
    "                \"City\": data[3].text,\n",
    "                \"SwiftCode\": data[4].text\n",
    "            })\n",
    "        else:\n",
    "            for d in data:\n",
    "                print(d.text)\n",
    "    return bank_details"
   ]
  },
  {
   "cell_type": "code",
   "execution_count": 9,
   "metadata": {},
   "outputs": [],
   "source": [
    "# Check if page is paginated\n",
    "# for each country list href in country_list_hrefs check if element <nav aria-label=\"Page navigation\"></nav> exists\n",
    "#  if exists create list of hrefs \n",
    "# where if country_list_hrefs = https://bank-code.net/country/KENYA-%28KE%29.html\n",
    "# then hrefs = [ https://bank-code.net/country/KENYA-%28KE%29.html, https://bank-code.net/country/KENYA-%28KE%29/50.html, https://bank-code.net/country/KENYA-%28KE%29/100.html ... ]\n",
    "# else hrefs = [ https://bank-code.net/country/KENYA-%28KE%29.html ]\n",
    "\n",
    "def getBankTableList(country_list_href):\n",
    "    browser.get(country_list_href)\n",
    "    # check if pagination exists\n",
    "    try:\n",
    "        nav = browser.find_element(By.CLASS_NAME, \"pagination\")\n",
    "    except:\n",
    "        nav = None\n",
    "    hrefs = [country_list_href]\n",
    "    bank_details = []\n",
    "    if nav:\n",
    "        # generate links for 50 ... 100 ... 150 .... 1000\n",
    "        for i in range(1, 41):\n",
    "            # remove .html from country_list_href\n",
    "            country_list_href = country_list_href.replace(\".html\", \"\")\n",
    "            url = f\"{country_list_href}/{i * 50}.html\"\n",
    "            hrefs.append(url)\n",
    "        for href in hrefs:\n",
    "            bank_details.extend(getTableDataIfExists(href))\n",
    "    # return\n",
    "    print(\"Pages: \", bank_details)\n",
    "    return bank_details\n",
    "\n",
    "# check if url exists\n",
    "def getTableDataIfExists(url):\n",
    "    browser.get(url)\n",
    "    # url withouth .html matches current_url with .html return True else False\n",
    "    url_ = url\n",
    "    exists =  url.replace(\".html\", \"\") == browser.current_url.replace(\".html\", \"\")\n",
    "    if exists:\n",
    "        return getBankDetails(url_)\n",
    "    return []\n"
   ]
  },
  {
   "cell_type": "code",
   "execution_count": 10,
   "metadata": {},
   "outputs": [],
   "source": [
    "\n",
    "import csv\n",
    "\n",
    "# check if file exists\n",
    "def checkIfFileExists(file):\n",
    "    try:\n",
    "        with open(file, \"r\") as f:\n",
    "            return True\n",
    "    except:\n",
    "        return False\n",
    "\n",
    "# create checked.txt file if not exists\n",
    "def createCheckedTxt():\n",
    "    if not checkIfFileExists(\"checked.txt\"):\n",
    "        with open(\"checked.txt\", \"w\") as f:\n",
    "            f.write(\"\")\n",
    "\n",
    "# append href to checked.txt file\n",
    "def appendToChecked(href):\n",
    "    with open(\"checked.txt\", \"a\", encoding=\"utf-8\") as f:\n",
    "        f.write(href + \"\\n\")\n",
    "\n",
    "# read checked.txt file\n",
    "def readChecked():\n",
    "    with open(\"checked.txt\", \"r\") as f:\n",
    "        return f.read().split(\"\\n\")\n",
    "\n",
    "# create bank details csv file if not exists\n",
    "def createBankDetailsCsv():\n",
    "    if not checkIfFileExists(\"bank_details.csv\"):\n",
    "        with open(\"bank_details.csv\", \"w\") as f:\n",
    "            writer = csv.DictWriter(f, fieldnames=[\"BankName\", \"Branch\", \"City\", \"SwiftCode\"])\n",
    "            writer.writeheader()\n",
    "\n",
    "# append bank details to csv file\n",
    "def appendToBankDetailsList(bank_details):\n",
    "    print(\"Appending \", bank_details)\n",
    "    with open(\"bank_details.csv\", \"a\", encoding=\"utf-8\") as f:\n",
    "        writer = csv.DictWriter(f, fieldnames=[\"BankName\", \"Branch\", \"City\", \"SwiftCode\"])\n",
    "        for bank_detail in bank_details:\n",
    "            writer.writerow(bank_detail)\n",
    "\n",
    "# get country list hrefs\n",
    "def getCountryListHrefs():\n",
    "    with open(\"country_list_hrefs.txt\", \"r\") as f:\n",
    "        return f.read().split(\"\\n\")\n",
    "\n",
    "createCheckedTxt()\n",
    "createBankDetailsCsv()"
   ]
  },
  {
   "cell_type": "code",
   "execution_count": null,
   "metadata": {},
   "outputs": [],
   "source": [
    "# Note 1: incase this script is stopped you can start from here granted all the above code has been run\n",
    "# Note 2: if you want to start from the beginning delete checked.txt, country_list_hrefs.txt and bank_details.csv\n",
    "# Note 3: This script does not take into account rate limiting, you can add a sleep function to slow down the requests\n",
    "# Get bank details for each href in country_list_hrefs\n",
    "# When href is checked add to checked list txt file\n",
    "# Save bank details to csv\n",
    "checked = readChecked()\n",
    "country_list_hrefs = getCountryListHrefs()\n",
    "for country_list_href in country_list_hrefs:\n",
    "    if country_list_href in checked:\n",
    "        continue\n",
    "    appendToBankDetailsList(getBankTableList(country_list_href))\n",
    "    appendToChecked(country_list_href)\n",
    "    checked.append(country_list_href)\n",
    "\n",
    "print(\"Done\")"
   ]
  }
 ],
 "metadata": {
  "kernelspec": {
   "display_name": "Python 3",
   "language": "python",
   "name": "python3"
  },
  "language_info": {
   "codemirror_mode": {
    "name": "ipython",
    "version": 3
   },
   "file_extension": ".py",
   "mimetype": "text/x-python",
   "name": "python",
   "nbconvert_exporter": "python",
   "pygments_lexer": "ipython3",
   "version": "3.11.9"
  }
 },
 "nbformat": 4,
 "nbformat_minor": 2
}
